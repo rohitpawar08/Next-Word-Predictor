{
 "cells": [
  {
   "cell_type": "code",
   "execution_count": 1,
   "metadata": {
    "id": "0HGQP2DVo1YR"
   },
   "outputs": [],
   "source": [
    "# import the required libraries\n",
    "import pickle\n",
    "import heapq\n",
    "import numpy as np\n",
    "import matplotlib.pyplot as plt\n",
    "from nltk.tokenize import RegexpTokenizer\n",
    "from keras.models import Sequential, load_model\n",
    "from keras.layers import Dense, Activation\n",
    "from keras.layers import LSTM, Dropout\n",
    "from keras.layers import TimeDistributed\n",
    "from keras.layers.core import Dense, Activation, Dropout\n",
    "from tensorflow.keras.optimizers import RMSprop"
   ]
  },
  {
   "cell_type": "code",
   "execution_count": 2,
   "metadata": {
    "colab": {
     "base_uri": "https://localhost:8080/"
    },
    "id": "g-yC9_BMpKlv",
    "outputId": "30ab42f9-fb2e-4731-d035-dbf31f114a08"
   },
   "outputs": [
    {
     "name": "stdout",
     "output_type": "stream",
     "text": [
      "corpus length: 600893\n"
     ]
    }
   ],
   "source": [
    "# Read the dataset\n",
    "path = 'data.txt'\n",
    "text = open(path, encoding='utf-8').read().lower()\n",
    "print('corpus length:', len(text))"
   ]
  },
  {
   "cell_type": "code",
   "execution_count": 3,
   "metadata": {
    "colab": {
     "base_uri": "https://localhost:8080/"
    },
    "id": "E9EU0zFrpKjF",
    "outputId": "233382d0-e3fd-4697-a7d9-26f96d9f340a"
   },
   "outputs": [
    {
     "name": "stdout",
     "output_type": "stream",
     "text": [
      "unique chars: 57\n"
     ]
    }
   ],
   "source": [
    "# Getting unique word\n",
    "chars = sorted(list(set(text)))\n",
    "char_indices = dict((c, i) for i, c in enumerate(chars))\n",
    "indices_char = dict((i, c) for i, c in enumerate(chars))\n",
    "\n",
    "print(f'unique chars: {len(chars)}')"
   ]
  },
  {
   "cell_type": "code",
   "execution_count": 4,
   "metadata": {
    "colab": {
     "base_uri": "https://localhost:8080/"
    },
    "id": "bvTyDt4apKgD",
    "outputId": "e4fc8dfb-9562-4deb-9427-106a409339f4"
   },
   "outputs": [
    {
     "name": "stdout",
     "output_type": "stream",
     "text": [
      "num training examples: 200285\n"
     ]
    }
   ],
   "source": [
    "# Feature Engineering\n",
    "SEQUENCE_LENGTH = 40\n",
    "step = 3\n",
    "sentences = []\n",
    "next_chars = []\n",
    "for i in range(0, len(text) - SEQUENCE_LENGTH, step):\n",
    "    sentences.append(text[i: i + SEQUENCE_LENGTH])\n",
    "    next_chars.append(text[i + SEQUENCE_LENGTH])\n",
    "print(f'num training examples: {len(sentences)}')"
   ]
  },
  {
   "cell_type": "code",
   "execution_count": 5,
   "metadata": {
    "id": "DJ8ZsYyXpKc-"
   },
   "outputs": [],
   "source": [
    "# Storing features and labels\n",
    "X = np.zeros((len(sentences), SEQUENCE_LENGTH, len(chars)), dtype=bool)\n",
    "y = np.zeros((len(sentences), len(chars)), dtype=bool)\n",
    "for i, sentence in enumerate(sentences):\n",
    "    for t, char in enumerate(sentence):\n",
    "        X[i, t, char_indices[char]] = 1\n",
    "    y[i, char_indices[next_chars[i]]] = 1"
   ]
  },
  {
   "cell_type": "code",
   "execution_count": 6,
   "metadata": {
    "colab": {
     "base_uri": "https://localhost:8080/",
     "height": 35
    },
    "id": "CS8HK9--pKZ6",
    "outputId": "3c0b8ced-ebe9-411b-8253-cf167c5b507f"
   },
   "outputs": [
    {
     "data": {
      "text/plain": [
       "'ve been unskilled and unseemly methods f'"
      ]
     },
     "execution_count": 6,
     "metadata": {},
     "output_type": "execute_result"
    }
   ],
   "source": [
    "sentences[100]"
   ]
  },
  {
   "cell_type": "code",
   "execution_count": 7,
   "metadata": {
    "colab": {
     "base_uri": "https://localhost:8080/",
     "height": 35
    },
    "id": "7r09WhvGpKW8",
    "outputId": "7b0690ca-94e1-4eeb-eed3-1dd9fbfb7b51"
   },
   "outputs": [
    {
     "data": {
      "text/plain": [
       "'o'"
      ]
     },
     "execution_count": 7,
     "metadata": {},
     "output_type": "execute_result"
    }
   ],
   "source": [
    "next_chars[100]"
   ]
  },
  {
   "cell_type": "code",
   "execution_count": 8,
   "metadata": {
    "colab": {
     "base_uri": "https://localhost:8080/"
    },
    "id": "mrn3sRFLpKUG",
    "outputId": "8c17888c-703c-4a08-ecc8-9b71fe6f39f1"
   },
   "outputs": [
    {
     "data": {
      "text/plain": [
       "array([False, False, False, False, False, False, False, False, False,\n",
       "       False, False, False, False, False, False, False, False, False,\n",
       "       False, False, False, False, False, False, False, False, False,\n",
       "       False, False, False, False, False, False, False, False, False,\n",
       "       False, False, False, False, False, False,  True, False, False,\n",
       "       False, False, False, False, False, False, False, False, False,\n",
       "       False, False, False])"
      ]
     },
     "execution_count": 8,
     "metadata": {},
     "output_type": "execute_result"
    }
   ],
   "source": [
    "X[0][0]"
   ]
  },
  {
   "cell_type": "code",
   "execution_count": 9,
   "metadata": {
    "colab": {
     "base_uri": "https://localhost:8080/"
    },
    "id": "IBOw9FcWpKRC",
    "outputId": "6c8ec11e-d572-4520-cdcd-ae55edd6a0c4"
   },
   "outputs": [
    {
     "data": {
      "text/plain": [
       "array([False, False, False, False, False, False, False, False, False,\n",
       "       False, False, False, False, False, False, False, False, False,\n",
       "       False, False, False, False, False, False, False, False, False,\n",
       "       False, False, False, False, False, False, False, False, False,\n",
       "       False, False, False, False,  True, False, False, False, False,\n",
       "       False, False, False, False, False, False, False, False, False,\n",
       "       False, False, False])"
      ]
     },
     "execution_count": 9,
     "metadata": {},
     "output_type": "execute_result"
    }
   ],
   "source": [
    "y[0]"
   ]
  },
  {
   "cell_type": "code",
   "execution_count": 10,
   "metadata": {
    "colab": {
     "base_uri": "https://localhost:8080/"
    },
    "id": "UJ57IqBRpKN3",
    "outputId": "d9747ff1-ce59-4b26-f8f0-44568f089d92"
   },
   "outputs": [
    {
     "data": {
      "text/plain": [
       "(200285, 40, 57)"
      ]
     },
     "execution_count": 10,
     "metadata": {},
     "output_type": "execute_result"
    }
   ],
   "source": [
    "X.shape"
   ]
  },
  {
   "cell_type": "code",
   "execution_count": 11,
   "metadata": {
    "colab": {
     "base_uri": "https://localhost:8080/"
    },
    "id": "68ugEXN_pKIT",
    "outputId": "bb11e108-6995-4074-98fa-b32f96c8726c"
   },
   "outputs": [
    {
     "data": {
      "text/plain": [
       "(200285, 57)"
      ]
     },
     "execution_count": 11,
     "metadata": {},
     "output_type": "execute_result"
    }
   ],
   "source": [
    "y.shape"
   ]
  },
  {
   "cell_type": "code",
   "execution_count": 12,
   "metadata": {
    "id": "JR4Mk4LqpKFh"
   },
   "outputs": [],
   "source": [
    "# Building our model\n",
    "model = Sequential()\n",
    "model.add(LSTM(128, input_shape=(SEQUENCE_LENGTH, len(chars))))\n",
    "model.add(Dense(len(chars)))\n",
    "model.add(Activation('softmax'))"
   ]
  },
  {
   "cell_type": "code",
   "execution_count": 13,
   "metadata": {
    "colab": {
     "base_uri": "https://localhost:8080/"
    },
    "id": "Nc7DNDIVpKCk",
    "outputId": "5710aae7-b3e9-464a-a9b3-ae01a8bd2d46"
   },
   "outputs": [
    {
     "name": "stdout",
     "output_type": "stream",
     "text": [
      "Epoch 1/20\n",
      "1487/1487 [==============================] - 101s 66ms/step - loss: 1.9920 - accuracy: 0.4186 - val_loss: 1.7016 - val_accuracy: 0.4885\n",
      "Epoch 2/20\n",
      "1487/1487 [==============================] - 101s 68ms/step - loss: 1.6350 - accuracy: 0.5142 - val_loss: 1.5902 - val_accuracy: 0.5217\n",
      "Epoch 3/20\n",
      "1487/1487 [==============================] - 93s 63ms/step - loss: 1.5417 - accuracy: 0.5396 - val_loss: 1.5553 - val_accuracy: 0.5293\n",
      "Epoch 4/20\n",
      "1487/1487 [==============================] - 106s 71ms/step - loss: 1.4912 - accuracy: 0.5529 - val_loss: 1.5154 - val_accuracy: 0.5434\n",
      "Epoch 5/20\n",
      "1487/1487 [==============================] - 100s 67ms/step - loss: 1.4568 - accuracy: 0.5620 - val_loss: 1.5084 - val_accuracy: 0.5477\n",
      "Epoch 6/20\n",
      "1487/1487 [==============================] - 103s 69ms/step - loss: 1.4321 - accuracy: 0.5690 - val_loss: 1.5045 - val_accuracy: 0.5561\n",
      "Epoch 7/20\n",
      "1487/1487 [==============================] - 94s 63ms/step - loss: 1.4137 - accuracy: 0.5728 - val_loss: 1.5096 - val_accuracy: 0.5451\n",
      "Epoch 8/20\n",
      "1487/1487 [==============================] - 90s 60ms/step - loss: 1.3997 - accuracy: 0.5768 - val_loss: 1.5041 - val_accuracy: 0.5488\n",
      "Epoch 9/20\n",
      "1487/1487 [==============================] - 104s 70ms/step - loss: 1.3846 - accuracy: 0.5807 - val_loss: 1.4998 - val_accuracy: 0.5544\n",
      "Epoch 10/20\n",
      "1487/1487 [==============================] - 99s 67ms/step - loss: 1.3739 - accuracy: 0.5831 - val_loss: 1.4907 - val_accuracy: 0.5568\n",
      "Epoch 11/20\n",
      "1487/1487 [==============================] - 98s 66ms/step - loss: 1.3630 - accuracy: 0.5858 - val_loss: 1.5069 - val_accuracy: 0.5510\n",
      "Epoch 12/20\n",
      "1487/1487 [==============================] - 98s 66ms/step - loss: 1.3561 - accuracy: 0.5875 - val_loss: 1.4911 - val_accuracy: 0.5596\n",
      "Epoch 13/20\n",
      "1487/1487 [==============================] - 99s 67ms/step - loss: 1.3486 - accuracy: 0.5897 - val_loss: 1.5059 - val_accuracy: 0.5575\n",
      "Epoch 14/20\n",
      "1487/1487 [==============================] - 103s 69ms/step - loss: 1.3418 - accuracy: 0.5921 - val_loss: 1.4974 - val_accuracy: 0.5571\n",
      "Epoch 15/20\n",
      "1487/1487 [==============================] - 113s 76ms/step - loss: 1.3360 - accuracy: 0.5933 - val_loss: 1.4892 - val_accuracy: 0.5554\n",
      "Epoch 16/20\n",
      "1487/1487 [==============================] - 98s 66ms/step - loss: 1.3310 - accuracy: 0.5949 - val_loss: 1.4985 - val_accuracy: 0.5560\n",
      "Epoch 17/20\n",
      "1487/1487 [==============================] - 98s 66ms/step - loss: 1.3248 - accuracy: 0.5963 - val_loss: 1.4955 - val_accuracy: 0.5639\n",
      "Epoch 18/20\n",
      "1487/1487 [==============================] - 98s 66ms/step - loss: 1.3201 - accuracy: 0.5973 - val_loss: 1.4888 - val_accuracy: 0.5613\n",
      "Epoch 19/20\n",
      "1487/1487 [==============================] - 100s 67ms/step - loss: 1.3184 - accuracy: 0.5969 - val_loss: 1.4939 - val_accuracy: 0.5599\n",
      "Epoch 20/20\n",
      "1487/1487 [==============================] - 107s 72ms/step - loss: 1.3122 - accuracy: 0.5998 - val_loss: 1.4943 - val_accuracy: 0.5588\n"
     ]
    }
   ],
   "source": [
    "# Model training\n",
    "optimizer = RMSprop(learning_rate=0.01)\n",
    "model.compile(loss='categorical_crossentropy', optimizer=optimizer, metrics=['accuracy'])\n",
    "history = model.fit(X, y, validation_split=0.05, batch_size=128, epochs=20, shuffle=True).history"
   ]
  },
  {
   "cell_type": "code",
   "execution_count": 14,
   "metadata": {
    "id": "W96n15NtpJ_g"
   },
   "outputs": [],
   "source": [
    "# Saving model\n",
    "model.save('next_word_model.h5')\n",
    "pickle.dump(history, open(\"history.p\", \"wb\"))\n",
    "model = load_model('next_word_model.h5')\n",
    "history = pickle.load(open(\"history.p\", \"rb\"))"
   ]
  },
  {
   "cell_type": "code",
   "execution_count": 15,
   "metadata": {
    "colab": {
     "base_uri": "https://localhost:8080/",
     "height": 318
    },
    "id": "mEdxqWQIpJ5_",
    "outputId": "7a310eac-31e1-4815-9916-71775145f08a"
   },
   "outputs": [
    {
     "data": {
      "image/png": "[encoded data removed]",
      "text/plain": [
       "<Figure size 432x288 with 1 Axes>"
      ]
     },
     "metadata": {
      "needs_background": "light"
     },
     "output_type": "display_data"
    }
   ],
   "source": [
    "# Evaluating the model\n",
    "plt.plot(history['accuracy'])\n",
    "plt.plot(history['val_accuracy'])\n",
    "plt.title('model accuracy')\n",
    "plt.ylabel('accuracy')\n",
    "plt.xlabel('epoch')\n",
    "plt.legend(['train', 'test'], loc='upper left');"
   ]
  },
  {
   "cell_type": "code",
   "execution_count": 17,
   "metadata": {
    "colab": {
     "base_uri": "https://localhost:8080/",
     "height": 318
    },
    "id": "C-TxXGP2pJ23",
    "outputId": "21b3d5bf-e4c9-4cc4-9edc-ac05591a7aa8"
   },
   "outputs": [
    {
     "data": {
      "image/png": "[encoded data removed]",
      "text/plain": [
       "<Figure size 432x288 with 1 Axes>"
      ]
     },
     "metadata": {
      "needs_background": "light"
     },
     "output_type": "display_data"
    }
   ],
   "source": [
    "plt.plot(history['loss'])\n",
    "plt.plot(history['val_loss'])\n",
    "plt.title('model loss')\n",
    "plt.ylabel('loss')\n",
    "plt.xlabel('epoch')\n",
    "plt.legend(['train', 'test'], loc='upper left');"
   ]
  },
  {
   "cell_type": "code",
   "execution_count": 18,
   "metadata": {
    "id": "jj41GA8jpJz5"
   },
   "outputs": [],
   "source": [
    "# Testing next word\n",
    "def prepare_input(text):\n",
    "    x = np.zeros((1, SEQUENCE_LENGTH, len(chars)))\n",
    "    for t, char in enumerate(text):\n",
    "        x[0, t, char_indices[char]] = 1.\n",
    "        \n",
    "    return x"
   ]
  },
  {
   "cell_type": "code",
   "execution_count": 19,
   "metadata": {
    "colab": {
     "base_uri": "https://localhost:8080/"
    },
    "id": "k3hBI5JKpJwn",
    "outputId": "9304916a-27fd-4261-8f90-4d5be6aea92a"
   },
   "outputs": [
    {
     "data": {
      "text/plain": [
       "array([[[0., 0., 0., ..., 0., 0., 0.],\n",
       "        [0., 0., 0., ..., 0., 0., 0.],\n",
       "        [0., 0., 0., ..., 0., 0., 0.],\n",
       "        ...,\n",
       "        [0., 0., 0., ..., 0., 0., 0.],\n",
       "        [0., 0., 0., ..., 0., 0., 0.],\n",
       "        [0., 0., 0., ..., 0., 0., 0.]]])"
      ]
     },
     "execution_count": 19,
     "metadata": {},
     "output_type": "execute_result"
    }
   ],
   "source": [
    "prepare_input(\"This is an example of input for our LSTM\".lower())"
   ]
  },
  {
   "cell_type": "code",
   "execution_count": 20,
   "metadata": {
    "id": "blRX52AwpJtx"
   },
   "outputs": [],
   "source": [
    "def sample(preds, top_n=3):\n",
    "    preds = np.asarray(preds).astype('float64')\n",
    "    preds = np.log(preds)\n",
    "    exp_preds = np.exp(preds)\n",
    "    preds = exp_preds / np.sum(exp_preds)\n",
    "    \n",
    "    return heapq.nlargest(top_n, range(len(preds)), preds.take)"
   ]
  },
  {
   "cell_type": "code",
   "execution_count": 21,
   "metadata": {
    "id": "PlGU7pgwpJq5"
   },
   "outputs": [],
   "source": [
    "def predict_completion(text):\n",
    "    original_text = text\n",
    "    generated = text\n",
    "    completion = ''\n",
    "    while True:\n",
    "        x = prepare_input(text)\n",
    "        preds = model.predict(x, verbose=0)[0]\n",
    "        next_index = sample(preds, top_n=1)[0]\n",
    "        next_char = indices_char[next_index]\n",
    "        text = text[1:] + next_char\n",
    "        completion += next_char\n",
    "        \n",
    "        if len(original_text + completion) + 2 > len(original_text) and next_char == ' ':\n",
    "            return completion"
   ]
  },
  {
   "cell_type": "code",
   "execution_count": 22,
   "metadata": {
    "id": "vRDbtl5opJn2"
   },
   "outputs": [],
   "source": [
    "def predict_completions(text, n=3):\n",
    "    x = prepare_input(text)\n",
    "    preds = model.predict(x, verbose=0)[0]\n",
    "    next_indices = sample(preds, n)\n",
    "    return [indices_char[idx] + predict_completion(text[1:] + indices_char[idx]) for idx in next_indices]"
   ]
  },
  {
   "cell_type": "code",
   "execution_count": 23,
   "metadata": {
    "id": "iAt5otQkpJik"
   },
   "outputs": [],
   "source": [
    "quotes = [\n",
    "    \"It is not a lack of love, but a lack of friendship that makes unhappy marriages.\",\n",
    "    \"That which does not kill us makes us stronger.\",\n",
    "    \"I'm not upset that you lied to me, I'm upset that from now on I can't believe you.\",\n",
    "    \"And those who were seen dancing were thought to be insane by those who could not hear the music.\",\n",
    "    \"It is hard enough to remember my opinions, without also remembering my reasons for them!\"\n",
    "]"
   ]
  },
  {
   "cell_type": "code",
   "execution_count": 24,
   "metadata": {
    "colab": {
     "base_uri": "https://localhost:8080/"
    },
    "id": "6q-4xJAupJfR",
    "outputId": "19412412-ee93-4b01-f30a-abc0e9453db8"
   },
   "outputs": [
    {
     "name": "stdout",
     "output_type": "stream",
     "text": [
      "it is not a lack of love, but a lack of \n",
      "['the ', 'mankind ', 'a ', 'such ', 'constantial ']\n",
      "\n",
      "that which does not kill us makes us str\n",
      "['ong ', 'uct ', 'ength, ', 'ange ', 'ives ']\n",
      "\n",
      "i'm not upset that you lied to me, i'm u\n",
      "['nder ', 'pon ', 'sed ', 'tility ', 'deal ']\n",
      "\n",
      "and those who were seen dancing were tho\n",
      "['se ', 'ughts ', 'rold ', 'n ', 't ']\n",
      "\n",
      "it is hard enough to remember my opinion\n",
      "[' of ', ', ', '\\nand ', '.=--the ', 's, ']\n",
      "\n"
     ]
    }
   ],
   "source": [
    "for q in quotes:\n",
    "    seq = q[:40].lower()\n",
    "    print(seq)\n",
    "    print(predict_completions(seq, 5))\n",
    "    print()"
   ]
  },
  {
   "cell_type": "code",
   "execution_count": null,
   "metadata": {},
   "outputs": [],
   "source": []
  }
 ],
 "metadata": {
  "accelerator": "GPU",
  "colab": {
   "collapsed_sections": [],
   "name": "nwp1.ipynb",
   "provenance": []
  },
  "kernelspec": {
   "display_name": "Python 3 (ipykernel)",
   "language": "python",
   "name": "python3"
  },
  "language_info": {
   "codemirror_mode": {
    "name": "ipython",
    "version": 3
   },
   "file_extension": ".py",
   "mimetype": "text/x-python",
   "name": "python",
   "nbconvert_exporter": "python",
   "pygments_lexer": "ipython3",
   "version": "3.9.7"
  }
 },
 "nbformat": 4,
 "nbformat_minor": 1
}
